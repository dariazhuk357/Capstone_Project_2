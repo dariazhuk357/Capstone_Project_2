{
 "cells": [
  {
   "cell_type": "code",
   "execution_count": 101,
   "metadata": {},
   "outputs": [],
   "source": [
    "import numpy as np \n",
    "import pandas as pd \n",
    "import matplotlib.pyplot as plt \n",
    "import seaborn as sns\n",
    "import scipy\n",
    "from statsmodels.stats import weightstats as stests"
   ]
  },
  {
   "cell_type": "code",
   "execution_count": 2,
   "metadata": {},
   "outputs": [
    {
     "name": "stdout",
     "output_type": "stream",
     "text": [
      "{\n",
      " \"cells\": [\n",
      "  {\n",
      "   \"cell_type\": \"markdown\",\n",
      "   \"metadata\": {},\n",
      "   \"source\": [\n",
      "    \"# What is the True Normal Human Body Temperature? \\n\",\n",
      "    \"\\n\",\n",
      "    \"#### Background\\n\",\n",
      "    \"\\n\",\n",
      "    \"The mean normal body temperature was held to be 37$^{\\\\circ}$C or 98.6$^{\\\\circ}$F for more than 120 years since it was first conceptualized and reported by Carl Wunderlich in a famous 1868 book. But, is this value statistically correct?\"\n",
      "   ]\n",
      "  },\n",
      "  {\n",
      "   \"cell_type\": \"markdown\",\n",
      "   \"metadata\": {},\n",
      "   \"source\": [\n",
      "    \"<h3>Exercises</h3>\\n\",\n",
      "    \"\\n\",\n",
      "    \"<p>In this exercise, you will analyze a dataset of human body temperatures and employ the concepts of hypothesis testing, confidence intervals, and statistical significance.</p>\\n\",\n",
      "    \"\\n\",\n",
      "    \"<p>Answer the following questions <b>in this notebook below and submit to your Github account</b>.</p> \\n\",\n",
      "    \"\\n\",\n",
      "    \"<ol>\\n\",\n",
      "    \"<li>  Is the distribution of body temperatures normal? \\n\",\n",
      "    \"    <ul>\\n\",\n",
      "    \"    <li> Although this is not a requirement for the Central Limit Theorem to hold (read the introduction on Wikipedia's page about the CLT carefully: https://en.wikipedia.org/wiki/Central_limit_theorem), it gives us some peace of mind that the population may also be normally distributed if we assume that this sample is representative of the population.\\n\",\n",
      "    \"    <li> Think about the way you're going to check for the normality of the distribution. Graphical methods are usually used first, but there are also other ways: https://en.wikipedia.org/wiki/Normality_test\\n\",\n",
      "    \"    </ul>\\n\",\n",
      "    \"<li>  Is the sample size large? Are the observations independent?\\n\",\n",
      "    \"    <ul>\\n\",\n",
      "    \"    <li> Remember that this is a condition for the Central Limit Theorem, and hence the statistical tests we are using, to apply.\\n\",\n",
      "    \"    </ul>\\n\",\n",
      "    \"<li>  Is the true population mean really 98.6 degrees F?\\n\",\n",
      "    \"    <ul>\\n\",\n",
      "    \"    <li> First, try a bootstrap hypothesis test.\\n\",\n",
      "    \"    <li> Now, let's try frequentist statistical testing. Would you use a one-sample or two-sample test? Why?\\n\",\n",
      "    \"    <li> In this situation, is it appropriate to use the $t$ or $z$ statistic? \\n\",\n",
      "    \"    <li> Now try using the other test. How is the result be different? Why?\\n\",\n",
      "    \"    </ul>\\n\",\n",
      "    \"<li>  Draw a small sample of size 10 from the data and repeat both frequentist tests. \\n\",\n",
      "    \"    <ul>\\n\",\n",
      "    \"    <li> Which one is the correct one to use? \\n\",\n",
      "    \"    <li> What do you notice? What does this tell you about the difference in application of the $t$ and $z$ statistic?\\n\",\n",
      "    \"    </ul>\\n\",\n",
      "    \"<li>  At what temperature should we consider someone's temperature to be \\\"abnormal\\\"?\\n\",\n",
      "    \"    <ul>\\n\",\n",
      "    \"    <li> As in the previous example, try calculating everything using the boostrap approach, as well as the frequentist approach.\\n\",\n",
      "    \"    <li> Start by computing the margin of error and confidence interval. When calculating the confidence interval, keep in mind that you should use the appropriate formula for one draw, and not N draws.\\n\",\n",
      "    \"    </ul>\\n\",\n",
      "    \"<li>  Is there a significant difference between males and females in normal temperature?\\n\",\n",
      "    \"    <ul>\\n\",\n",
      "    \"    <li> What testing approach did you use and why?\\n\",\n",
      "    \"    <li> Write a story with your conclusion in the context of the original problem.\\n\",\n",
      "    \"    </ul>\\n\",\n",
      "    \"</ol>\\n\",\n",
      "    \"\\n\",\n",
      "    \"You can include written notes in notebook cells using Markdown: \\n\",\n",
      "    \"   - In the control panel at the top, choose Cell > Cell Type > Markdown\\n\",\n",
      "    \"   - Markdown syntax: http://nestacms.com/docs/creating-content/markdown-cheat-sheet\\n\",\n",
      "    \"\\n\",\n",
      "    \"#### Resources\\n\",\n",
      "    \"\\n\",\n",
      "    \"+ Information and data sources: http://www.amstat.org/publications/jse/datasets/normtemp.txt, http://www.amstat.org/publications/jse/jse_data_archive.htm\\n\",\n",
      "    \"+ Markdown syntax: http://nestacms.com/docs/creating-content/markdown-cheat-sheet\\n\",\n",
      "    \"\\n\",\n",
      "    \"****\"\n",
      "   ]\n",
      "  },\n",
      "  {\n",
      "   \"cell_type\": \"code\",\n",
      "   \"execution_count\": 2,\n",
      "   \"metadata\": {\n",
      "    \"collapsed\": true\n",
      "   },\n",
      "   \"outputs\": [],\n",
      "   \"source\": [\n",
      "    \"import pandas as pd\\n\",\n",
      "    \"\\n\",\n",
      "    \"df = pd.read_csv('data/human_body_temperature.csv')\"\n",
      "   ]\n",
      "  },\n",
      "  {\n",
      "   \"cell_type\": \"code\",\n",
      "   \"execution_count\": 3,\n",
      "   \"metadata\": {\n",
      "    \"collapsed\": true\n",
      "   },\n",
      "   \"outputs\": [],\n",
      "   \"source\": [\n",
      "    \"# Your work here.\"\n",
      "   ]\n",
      "  }\n",
      " ],\n",
      " \"metadata\": {\n",
      "  \"kernelspec\": {\n",
      "   \"display_name\": \"Python 3\",\n",
      "   \"language\": \"python\",\n",
      "   \"name\": \"python3\"\n",
      "  },\n",
      "  \"language_info\": {\n",
      "   \"codemirror_mode\": {\n",
      "    \"name\": \"ipython\",\n",
      "    \"version\": 3\n",
      "   },\n",
      "   \"file_extension\": \".py\",\n",
      "   \"mimetype\": \"text/x-python\",\n",
      "   \"name\": \"python\",\n",
      "   \"nbconvert_exporter\": \"python\",\n",
      "   \"pygments_lexer\": \"ipython3\",\n",
      "   \"version\": \"3.6.4\"\n",
      "  }\n",
      " },\n",
      " \"nbformat\": 4,\n",
      " \"nbformat_minor\": 1\n",
      "}\n",
      "\n"
     ]
    }
   ],
   "source": [
    "with open('/Users/dasha/Downloads/EDA_human_temperature/sliderule_dsi_inferential_statistics_exercise_1.ipynb','r') as file: \n",
    "    print(file.read())"
   ]
  },
  {
   "cell_type": "code",
   "execution_count": 103,
   "metadata": {},
   "outputs": [],
   "source": [
    "df=pd.read_csv('/Users/dasha/Downloads/EDA_human_temperature/data/human_body_temperature.csv')"
   ]
  },
  {
   "cell_type": "code",
   "execution_count": 104,
   "metadata": {
    "scrolled": true
   },
   "outputs": [
    {
     "data": {
      "text/html": [
       "<div>\n",
       "<style scoped>\n",
       "    .dataframe tbody tr th:only-of-type {\n",
       "        vertical-align: middle;\n",
       "    }\n",
       "\n",
       "    .dataframe tbody tr th {\n",
       "        vertical-align: top;\n",
       "    }\n",
       "\n",
       "    .dataframe thead th {\n",
       "        text-align: right;\n",
       "    }\n",
       "</style>\n",
       "<table border=\"1\" class=\"dataframe\">\n",
       "  <thead>\n",
       "    <tr style=\"text-align: right;\">\n",
       "      <th></th>\n",
       "      <th>temperature</th>\n",
       "      <th>gender</th>\n",
       "      <th>heart_rate</th>\n",
       "    </tr>\n",
       "  </thead>\n",
       "  <tbody>\n",
       "    <tr>\n",
       "      <th>0</th>\n",
       "      <td>99.3</td>\n",
       "      <td>F</td>\n",
       "      <td>68.0</td>\n",
       "    </tr>\n",
       "    <tr>\n",
       "      <th>1</th>\n",
       "      <td>98.4</td>\n",
       "      <td>F</td>\n",
       "      <td>81.0</td>\n",
       "    </tr>\n",
       "    <tr>\n",
       "      <th>2</th>\n",
       "      <td>97.8</td>\n",
       "      <td>M</td>\n",
       "      <td>73.0</td>\n",
       "    </tr>\n",
       "    <tr>\n",
       "      <th>3</th>\n",
       "      <td>99.2</td>\n",
       "      <td>F</td>\n",
       "      <td>66.0</td>\n",
       "    </tr>\n",
       "    <tr>\n",
       "      <th>4</th>\n",
       "      <td>98.0</td>\n",
       "      <td>F</td>\n",
       "      <td>73.0</td>\n",
       "    </tr>\n",
       "    <tr>\n",
       "      <th>5</th>\n",
       "      <td>99.2</td>\n",
       "      <td>M</td>\n",
       "      <td>83.0</td>\n",
       "    </tr>\n",
       "    <tr>\n",
       "      <th>6</th>\n",
       "      <td>98.0</td>\n",
       "      <td>M</td>\n",
       "      <td>71.0</td>\n",
       "    </tr>\n",
       "    <tr>\n",
       "      <th>7</th>\n",
       "      <td>98.8</td>\n",
       "      <td>M</td>\n",
       "      <td>78.0</td>\n",
       "    </tr>\n",
       "    <tr>\n",
       "      <th>8</th>\n",
       "      <td>98.4</td>\n",
       "      <td>F</td>\n",
       "      <td>84.0</td>\n",
       "    </tr>\n",
       "    <tr>\n",
       "      <th>9</th>\n",
       "      <td>98.6</td>\n",
       "      <td>F</td>\n",
       "      <td>86.0</td>\n",
       "    </tr>\n",
       "    <tr>\n",
       "      <th>10</th>\n",
       "      <td>98.8</td>\n",
       "      <td>F</td>\n",
       "      <td>89.0</td>\n",
       "    </tr>\n",
       "    <tr>\n",
       "      <th>11</th>\n",
       "      <td>96.7</td>\n",
       "      <td>F</td>\n",
       "      <td>62.0</td>\n",
       "    </tr>\n",
       "    <tr>\n",
       "      <th>12</th>\n",
       "      <td>98.2</td>\n",
       "      <td>M</td>\n",
       "      <td>72.0</td>\n",
       "    </tr>\n",
       "    <tr>\n",
       "      <th>13</th>\n",
       "      <td>98.7</td>\n",
       "      <td>F</td>\n",
       "      <td>79.0</td>\n",
       "    </tr>\n",
       "    <tr>\n",
       "      <th>14</th>\n",
       "      <td>97.8</td>\n",
       "      <td>F</td>\n",
       "      <td>77.0</td>\n",
       "    </tr>\n",
       "    <tr>\n",
       "      <th>15</th>\n",
       "      <td>98.8</td>\n",
       "      <td>F</td>\n",
       "      <td>83.0</td>\n",
       "    </tr>\n",
       "    <tr>\n",
       "      <th>16</th>\n",
       "      <td>98.3</td>\n",
       "      <td>F</td>\n",
       "      <td>79.0</td>\n",
       "    </tr>\n",
       "    <tr>\n",
       "      <th>17</th>\n",
       "      <td>98.2</td>\n",
       "      <td>M</td>\n",
       "      <td>64.0</td>\n",
       "    </tr>\n",
       "    <tr>\n",
       "      <th>18</th>\n",
       "      <td>97.2</td>\n",
       "      <td>F</td>\n",
       "      <td>68.0</td>\n",
       "    </tr>\n",
       "    <tr>\n",
       "      <th>19</th>\n",
       "      <td>99.4</td>\n",
       "      <td>M</td>\n",
       "      <td>70.0</td>\n",
       "    </tr>\n",
       "    <tr>\n",
       "      <th>20</th>\n",
       "      <td>98.3</td>\n",
       "      <td>F</td>\n",
       "      <td>78.0</td>\n",
       "    </tr>\n",
       "    <tr>\n",
       "      <th>21</th>\n",
       "      <td>98.2</td>\n",
       "      <td>M</td>\n",
       "      <td>71.0</td>\n",
       "    </tr>\n",
       "    <tr>\n",
       "      <th>22</th>\n",
       "      <td>98.6</td>\n",
       "      <td>M</td>\n",
       "      <td>70.0</td>\n",
       "    </tr>\n",
       "    <tr>\n",
       "      <th>23</th>\n",
       "      <td>98.4</td>\n",
       "      <td>M</td>\n",
       "      <td>68.0</td>\n",
       "    </tr>\n",
       "    <tr>\n",
       "      <th>24</th>\n",
       "      <td>97.8</td>\n",
       "      <td>M</td>\n",
       "      <td>65.0</td>\n",
       "    </tr>\n",
       "    <tr>\n",
       "      <th>25</th>\n",
       "      <td>98.0</td>\n",
       "      <td>F</td>\n",
       "      <td>87.0</td>\n",
       "    </tr>\n",
       "    <tr>\n",
       "      <th>26</th>\n",
       "      <td>97.8</td>\n",
       "      <td>F</td>\n",
       "      <td>62.0</td>\n",
       "    </tr>\n",
       "    <tr>\n",
       "      <th>27</th>\n",
       "      <td>98.2</td>\n",
       "      <td>F</td>\n",
       "      <td>69.0</td>\n",
       "    </tr>\n",
       "    <tr>\n",
       "      <th>28</th>\n",
       "      <td>98.4</td>\n",
       "      <td>F</td>\n",
       "      <td>73.0</td>\n",
       "    </tr>\n",
       "    <tr>\n",
       "      <th>29</th>\n",
       "      <td>98.1</td>\n",
       "      <td>M</td>\n",
       "      <td>67.0</td>\n",
       "    </tr>\n",
       "    <tr>\n",
       "      <th>...</th>\n",
       "      <td>...</td>\n",
       "      <td>...</td>\n",
       "      <td>...</td>\n",
       "    </tr>\n",
       "    <tr>\n",
       "      <th>100</th>\n",
       "      <td>99.0</td>\n",
       "      <td>M</td>\n",
       "      <td>81.0</td>\n",
       "    </tr>\n",
       "    <tr>\n",
       "      <th>101</th>\n",
       "      <td>98.5</td>\n",
       "      <td>M</td>\n",
       "      <td>68.0</td>\n",
       "    </tr>\n",
       "    <tr>\n",
       "      <th>102</th>\n",
       "      <td>98.0</td>\n",
       "      <td>F</td>\n",
       "      <td>78.0</td>\n",
       "    </tr>\n",
       "    <tr>\n",
       "      <th>103</th>\n",
       "      <td>99.4</td>\n",
       "      <td>F</td>\n",
       "      <td>77.0</td>\n",
       "    </tr>\n",
       "    <tr>\n",
       "      <th>104</th>\n",
       "      <td>97.6</td>\n",
       "      <td>M</td>\n",
       "      <td>69.0</td>\n",
       "    </tr>\n",
       "    <tr>\n",
       "      <th>105</th>\n",
       "      <td>96.7</td>\n",
       "      <td>M</td>\n",
       "      <td>71.0</td>\n",
       "    </tr>\n",
       "    <tr>\n",
       "      <th>106</th>\n",
       "      <td>97.0</td>\n",
       "      <td>M</td>\n",
       "      <td>80.0</td>\n",
       "    </tr>\n",
       "    <tr>\n",
       "      <th>107</th>\n",
       "      <td>98.6</td>\n",
       "      <td>M</td>\n",
       "      <td>66.0</td>\n",
       "    </tr>\n",
       "    <tr>\n",
       "      <th>108</th>\n",
       "      <td>98.7</td>\n",
       "      <td>F</td>\n",
       "      <td>72.0</td>\n",
       "    </tr>\n",
       "    <tr>\n",
       "      <th>109</th>\n",
       "      <td>97.3</td>\n",
       "      <td>M</td>\n",
       "      <td>69.0</td>\n",
       "    </tr>\n",
       "    <tr>\n",
       "      <th>110</th>\n",
       "      <td>98.8</td>\n",
       "      <td>F</td>\n",
       "      <td>69.0</td>\n",
       "    </tr>\n",
       "    <tr>\n",
       "      <th>111</th>\n",
       "      <td>98.0</td>\n",
       "      <td>F</td>\n",
       "      <td>89.0</td>\n",
       "    </tr>\n",
       "    <tr>\n",
       "      <th>112</th>\n",
       "      <td>98.2</td>\n",
       "      <td>F</td>\n",
       "      <td>64.0</td>\n",
       "    </tr>\n",
       "    <tr>\n",
       "      <th>113</th>\n",
       "      <td>99.1</td>\n",
       "      <td>F</td>\n",
       "      <td>74.0</td>\n",
       "    </tr>\n",
       "    <tr>\n",
       "      <th>114</th>\n",
       "      <td>99.0</td>\n",
       "      <td>M</td>\n",
       "      <td>79.0</td>\n",
       "    </tr>\n",
       "    <tr>\n",
       "      <th>115</th>\n",
       "      <td>98.0</td>\n",
       "      <td>M</td>\n",
       "      <td>64.0</td>\n",
       "    </tr>\n",
       "    <tr>\n",
       "      <th>116</th>\n",
       "      <td>100.8</td>\n",
       "      <td>F</td>\n",
       "      <td>77.0</td>\n",
       "    </tr>\n",
       "    <tr>\n",
       "      <th>117</th>\n",
       "      <td>97.8</td>\n",
       "      <td>F</td>\n",
       "      <td>71.0</td>\n",
       "    </tr>\n",
       "    <tr>\n",
       "      <th>118</th>\n",
       "      <td>98.7</td>\n",
       "      <td>M</td>\n",
       "      <td>78.0</td>\n",
       "    </tr>\n",
       "    <tr>\n",
       "      <th>119</th>\n",
       "      <td>98.4</td>\n",
       "      <td>F</td>\n",
       "      <td>74.0</td>\n",
       "    </tr>\n",
       "    <tr>\n",
       "      <th>120</th>\n",
       "      <td>97.7</td>\n",
       "      <td>F</td>\n",
       "      <td>84.0</td>\n",
       "    </tr>\n",
       "    <tr>\n",
       "      <th>121</th>\n",
       "      <td>97.9</td>\n",
       "      <td>F</td>\n",
       "      <td>68.0</td>\n",
       "    </tr>\n",
       "    <tr>\n",
       "      <th>122</th>\n",
       "      <td>99.0</td>\n",
       "      <td>F</td>\n",
       "      <td>81.0</td>\n",
       "    </tr>\n",
       "    <tr>\n",
       "      <th>123</th>\n",
       "      <td>97.2</td>\n",
       "      <td>F</td>\n",
       "      <td>66.0</td>\n",
       "    </tr>\n",
       "    <tr>\n",
       "      <th>124</th>\n",
       "      <td>97.5</td>\n",
       "      <td>M</td>\n",
       "      <td>75.0</td>\n",
       "    </tr>\n",
       "    <tr>\n",
       "      <th>125</th>\n",
       "      <td>96.3</td>\n",
       "      <td>M</td>\n",
       "      <td>70.0</td>\n",
       "    </tr>\n",
       "    <tr>\n",
       "      <th>126</th>\n",
       "      <td>97.7</td>\n",
       "      <td>M</td>\n",
       "      <td>77.0</td>\n",
       "    </tr>\n",
       "    <tr>\n",
       "      <th>127</th>\n",
       "      <td>98.2</td>\n",
       "      <td>F</td>\n",
       "      <td>73.0</td>\n",
       "    </tr>\n",
       "    <tr>\n",
       "      <th>128</th>\n",
       "      <td>97.9</td>\n",
       "      <td>M</td>\n",
       "      <td>72.0</td>\n",
       "    </tr>\n",
       "    <tr>\n",
       "      <th>129</th>\n",
       "      <td>98.7</td>\n",
       "      <td>F</td>\n",
       "      <td>59.0</td>\n",
       "    </tr>\n",
       "  </tbody>\n",
       "</table>\n",
       "<p>130 rows × 3 columns</p>\n",
       "</div>"
      ],
      "text/plain": [
       "     temperature gender  heart_rate\n",
       "0           99.3      F        68.0\n",
       "1           98.4      F        81.0\n",
       "2           97.8      M        73.0\n",
       "3           99.2      F        66.0\n",
       "4           98.0      F        73.0\n",
       "5           99.2      M        83.0\n",
       "6           98.0      M        71.0\n",
       "7           98.8      M        78.0\n",
       "8           98.4      F        84.0\n",
       "9           98.6      F        86.0\n",
       "10          98.8      F        89.0\n",
       "11          96.7      F        62.0\n",
       "12          98.2      M        72.0\n",
       "13          98.7      F        79.0\n",
       "14          97.8      F        77.0\n",
       "15          98.8      F        83.0\n",
       "16          98.3      F        79.0\n",
       "17          98.2      M        64.0\n",
       "18          97.2      F        68.0\n",
       "19          99.4      M        70.0\n",
       "20          98.3      F        78.0\n",
       "21          98.2      M        71.0\n",
       "22          98.6      M        70.0\n",
       "23          98.4      M        68.0\n",
       "24          97.8      M        65.0\n",
       "25          98.0      F        87.0\n",
       "26          97.8      F        62.0\n",
       "27          98.2      F        69.0\n",
       "28          98.4      F        73.0\n",
       "29          98.1      M        67.0\n",
       "..           ...    ...         ...\n",
       "100         99.0      M        81.0\n",
       "101         98.5      M        68.0\n",
       "102         98.0      F        78.0\n",
       "103         99.4      F        77.0\n",
       "104         97.6      M        69.0\n",
       "105         96.7      M        71.0\n",
       "106         97.0      M        80.0\n",
       "107         98.6      M        66.0\n",
       "108         98.7      F        72.0\n",
       "109         97.3      M        69.0\n",
       "110         98.8      F        69.0\n",
       "111         98.0      F        89.0\n",
       "112         98.2      F        64.0\n",
       "113         99.1      F        74.0\n",
       "114         99.0      M        79.0\n",
       "115         98.0      M        64.0\n",
       "116        100.8      F        77.0\n",
       "117         97.8      F        71.0\n",
       "118         98.7      M        78.0\n",
       "119         98.4      F        74.0\n",
       "120         97.7      F        84.0\n",
       "121         97.9      F        68.0\n",
       "122         99.0      F        81.0\n",
       "123         97.2      F        66.0\n",
       "124         97.5      M        75.0\n",
       "125         96.3      M        70.0\n",
       "126         97.7      M        77.0\n",
       "127         98.2      F        73.0\n",
       "128         97.9      M        72.0\n",
       "129         98.7      F        59.0\n",
       "\n",
       "[130 rows x 3 columns]"
      ]
     },
     "execution_count": 104,
     "metadata": {},
     "output_type": "execute_result"
    }
   ],
   "source": [
    "df"
   ]
  },
  {
   "cell_type": "code",
   "execution_count": 105,
   "metadata": {},
   "outputs": [
    {
     "data": {
      "text/plain": [
       "Text(0,0.5,'count')"
      ]
     },
     "execution_count": 105,
     "metadata": {},
     "output_type": "execute_result"
    },
    {
     "data": {
      "image/png": "[encoded data removed]",
      "text/plain": [
       "<Figure size 432x288 with 1 Axes>"
      ]
     },
     "metadata": {},
     "output_type": "display_data"
    }
   ],
   "source": [
    "### Is the temperature variable normal??? \n",
    "temperature=np.array(df['temperature'])\n",
    "bins=int(np.sqrt(len(temperature)))\n",
    "plt.hist(temperature,bins=bins, density=True)\n",
    "plt.xlabel('temperature')\n",
    "plt.ylabel('count')\n",
    "# From the histogram the temperature variable seems to be positively skewed "
   ]
  },
  {
   "cell_type": "code",
   "execution_count": 106,
   "metadata": {
    "scrolled": false
   },
   "outputs": [],
   "source": [
    "### What does the normal distribution look like for this sample's mean and std, approximately???\n",
    "temp_normal=np.random.normal((np.mean(temperature)),(np.std(temperature)),10000)"
   ]
  },
  {
   "cell_type": "code",
   "execution_count": 107,
   "metadata": {},
   "outputs": [
    {
     "data": {
      "text/plain": [
       "Text(0,0.5,'ecdf')"
      ]
     },
     "execution_count": 107,
     "metadata": {},
     "output_type": "execute_result"
    },
    {
     "data": {
      "image/png": "[encoded data removed]",
      "text/plain": [
       "<Figure size 432x288 with 1 Axes>"
      ]
     },
     "metadata": {},
     "output_type": "display_data"
    }
   ],
   "source": [
    "# Take a look at the ecdf??? \n",
    "\n",
    "def ecdf(data): \n",
    "    n=len(data)\n",
    "    x=np.sort(data)\n",
    "    y=np.arange(1,n+1)/n\n",
    "    return x,y \n",
    "\n",
    "normal_x,normal_y = ecdf(temp_normal)\n",
    "temp_x,temp_y=ecdf(temperature)\n",
    "plt.plot(normal_x,normal_y, marker='.',linestyle='none',color='red')\n",
    "plt.plot(temp_x,temp_y,marker='.',linestyle='none',color='blue')\n",
    "plt.legend(['normal','observed'],loc='lower right')\n",
    "plt.xlabel('temperature')\n",
    "plt.ylabel('ecdf')\n",
    "# the two lines are close but the right tail seems to be a bit off "
   ]
  },
  {
   "cell_type": "code",
   "execution_count": 108,
   "metadata": {},
   "outputs": [
    {
     "data": {
      "text/plain": [
       "Text(0,0.5,'degrees F')"
      ]
     },
     "execution_count": 108,
     "metadata": {},
     "output_type": "execute_result"
    },
    {
     "data": {
      "image/png": "[encoded data removed]",
      "text/plain": [
       "<Figure size 432x288 with 1 Axes>"
      ]
     },
     "metadata": {},
     "output_type": "display_data"
    }
   ],
   "source": [
    "### Are there a lot of outliers??? \n",
    "sns.boxplot(temperature,orient='v')\n",
    "plt.xlabel('temperature')\n",
    "plt.ylabel('degrees F')"
   ]
  },
  {
   "cell_type": "code",
   "execution_count": 109,
   "metadata": {},
   "outputs": [
    {
     "data": {
      "text/plain": [
       "0.233174666762352"
      ]
     },
     "execution_count": 109,
     "metadata": {},
     "output_type": "execute_result"
    }
   ],
   "source": [
    "### Test normality using Shapiro-Wilk for normality \n",
    "### Null Hypothesis Ho = temperature follows normal distribution \n",
    "### Alternative Hypothesis Ha = temperture follows an alterantive distribution pattern\n",
    "shapiro_values = scipy.stats.shapiro(temperature)\n",
    "shapiro_pvalue=shapiro_values[1]\n",
    "shapiro_pvalue"
   ]
  },
  {
   "cell_type": "code",
   "execution_count": 110,
   "metadata": {},
   "outputs": [],
   "source": [
    "### p-value of .23 is is significantly large even for 1% level of significance and therefore, we \n",
    "### fail to reject the null hypothesis, that is ... temperature does seems to follow normal distribution "
   ]
  },
  {
   "cell_type": "code",
   "execution_count": 111,
   "metadata": {},
   "outputs": [],
   "source": [
    "### Is the sample large enough? Are they independent? \n",
    "### The rule of thumb is that the sample size should at least be 10 (or>30 to be very sure)\n",
    "# and we have here >100"
   ]
  },
  {
   "cell_type": "code",
   "execution_count": 112,
   "metadata": {},
   "outputs": [
    {
     "name": "stdout",
     "output_type": "stream",
     "text": [
      "98.24616\n"
     ]
    }
   ],
   "source": [
    "# Is the true populations mean really 98.6 F? \n",
    "def draw_bs_rep(data,func,size): \n",
    "    bs_rep=np.empty(size)\n",
    "    for i in range(size): \n",
    "        bs_rep[i]=func(np.random.choice(data,len(data))) \n",
    "    return bs_rep\n",
    "bs_rep=draw_bs_rep(temperature,np.mean,1000)\n",
    "print(np.mean(bs_rep))\n"
   ]
  },
  {
   "cell_type": "code",
   "execution_count": 113,
   "metadata": {},
   "outputs": [
    {
     "name": "stdout",
     "output_type": "stream",
     "text": [
      "What is the p-value for the scenario that true mean is 98.6 F???\n",
      "p-value:  0.0\n",
      "The true mean is approx.:  98.24616\n"
     ]
    },
    {
     "data": {
      "text/plain": [
       "Text(0,0.5,'count')"
      ]
     },
     "execution_count": 113,
     "metadata": {},
     "output_type": "execute_result"
    },
    {
     "data": {
      "image/png": "[encoded data removed]",
      "text/plain": [
       "<Figure size 432x288 with 1 Axes>"
      ]
     },
     "metadata": {},
     "output_type": "display_data"
    }
   ],
   "source": [
    "### Bootstrap hypothesis test \n",
    "plt.hist(bs_rep,density=True)\n",
    "print('What is the p-value for the scenario that true mean is 98.6 F???')\n",
    "pvalue=np.sum(bs_rep>=98.6)/len(bs_rep)\n",
    "print('p-value: ',pvalue)\n",
    "print('The true mean is approx.: ',np.mean(bs_rep))\n",
    "plt.xlabel('temperature')\n",
    "plt.ylabel('count')\n",
    "# No the true mean is not 98.6 F \n",
    "# bootstrapping uses the CDF of the distribution to computes/estimates \n",
    "#true sampling distribution which does not necessrily have to be normal "
   ]
  },
  {
   "cell_type": "code",
   "execution_count": 114,
   "metadata": {},
   "outputs": [],
   "source": [
    "# Since this is comparing a mean of one sample to its population mean we would have \n",
    "# to use the one sample t-test \n",
    "# Two sample t-test would be comparing means between two groups of data\n",
    "# Either t-statistic or z-statistic can be used since the sample size is >30  \n",
    "# Using the t-test with the sample size provided (>30) is similar to z-test"
   ]
  },
  {
   "cell_type": "code",
   "execution_count": 115,
   "metadata": {},
   "outputs": [
    {
     "name": "stdout",
     "output_type": "stream",
     "text": [
      "p-value for the one sample t-test:  2.4106320415561276e-07\n",
      "We reject the null hypothesis that the true mean is 98.6\n"
     ]
    }
   ],
   "source": [
    "t_pvalue=scipy.stats.ttest_1samp(temperature,98.6)[1]\n",
    "print('p-value for the one sample t-test: ',t_pvalue)\n",
    "print('We reject the null hypothesis that the true mean is 98.6')"
   ]
  },
  {
   "cell_type": "code",
   "execution_count": 116,
   "metadata": {
    "scrolled": true
   },
   "outputs": [
    {
     "name": "stdout",
     "output_type": "stream",
     "text": [
      "p-value for the one sample z-test:  4.9021570141012155e-08\n",
      "We reject the null hypothesis that the true mean is 98.6\n"
     ]
    }
   ],
   "source": [
    "z_pvalue=stests.ztest(temperature,value=98.6)[1]\n",
    "print('p-value for the one sample z-test: ',z_pvalue)\n",
    "print('We reject the null hypothesis that the true mean is 98.6')"
   ]
  },
  {
   "cell_type": "code",
   "execution_count": 117,
   "metadata": {},
   "outputs": [],
   "source": [
    "# The z p-value and t p-value are both very small, however the z p-value is smaller than the \n",
    "# t p-value. They should technically be approximately the same for sample size >30. \n",
    "# However, we have to remember that the data here is not normal "
   ]
  },
  {
   "cell_type": "code",
   "execution_count": 118,
   "metadata": {},
   "outputs": [
    {
     "name": "stdout",
     "output_type": "stream",
     "text": [
      "p-value for the one sample t-test on 10 sample group:  0.5134695196339307\n",
      "We fail to reject the null hypothesis that the true mean is 98.6\n"
     ]
    }
   ],
   "source": [
    "ten_sample=np.random.choice(temperature,10)\n",
    "t_pvalue=scipy.stats.ttest_1samp(ten_sample,98.6)[1]\n",
    "print('p-value for the one sample t-test on 10 sample group: ',t_pvalue)\n",
    "print('We fail to reject the null hypothesis that the true mean is 98.6')"
   ]
  },
  {
   "cell_type": "code",
   "execution_count": 119,
   "metadata": {},
   "outputs": [
    {
     "name": "stdout",
     "output_type": "stream",
     "text": [
      "p-value for the one sample z-test on 10 sample group:  0.4963532168954795\n",
      "We fail to reject the null hypothesis that the true mean is 98.6\n"
     ]
    }
   ],
   "source": [
    "z_pvalue=stests.ztest(ten_sample,value=98.6)[1]\n",
    "print('p-value for the one sample z-test on 10 sample group: ',z_pvalue)\n",
    "print('We fail to reject the null hypothesis that the true mean is 98.6')"
   ]
  },
  {
   "cell_type": "code",
   "execution_count": 120,
   "metadata": {},
   "outputs": [],
   "source": [
    "# For the 10 sample test we see that the t-test p-value is more extreme than the z-test and \n",
    "# this is probably due to the fact that the z-test does not work well with sample sizes below\n",
    "# 30\n",
    "# The correct test here to use is the t-test \n",
    "# For higher sample sizes where the sample population can be approximated to be normal \n",
    "# z test could be used \n",
    "# On the other hand with small sizes (<30), z-statistic is not desirable and t-statistic \n",
    "# should be used "
   ]
  },
  {
   "cell_type": "code",
   "execution_count": 121,
   "metadata": {
    "scrolled": true
   },
   "outputs": [
    {
     "data": {
      "text/plain": [
       "0.06430441683789102"
      ]
     },
     "execution_count": 121,
     "metadata": {},
     "output_type": "execute_result"
    }
   ],
   "source": [
    "# Standard Error of Mean for temperature \n",
    "scipy.stats.sem(temperature)"
   ]
  },
  {
   "cell_type": "code",
   "execution_count": 122,
   "metadata": {},
   "outputs": [
    {
     "name": "stdout",
     "output_type": "stream",
     "text": [
      "Temperature that are abnormal using bootstrap statistic:  [98.11613462 98.37615385]\n"
     ]
    }
   ],
   "source": [
    "#What temperature is abnormal??? \n",
    "# The bootstrap approach.....\n",
    "confidence=np.percentile(bs_rep,[2.5,97.5])\n",
    "print('Temperature that are abnormal using bootstrap statistic: ',confidence)"
   ]
  },
  {
   "cell_type": "code",
   "execution_count": 123,
   "metadata": {},
   "outputs": [
    {
     "name": "stdout",
     "output_type": "stream",
     "text": [
      "Temperature that are abnormal using t-test statistic:  [98.11613462 98.37615385]\n"
     ]
    }
   ],
   "source": [
    "# The t confidence interval .... \n",
    "t_conf=scipy.stats.t.interval(.05,(len(temperature)-1))\n",
    "np.mean(temperature)+t_conf\n",
    "print('Temperature that are abnormal using t-test statistic: ',confidence)"
   ]
  },
  {
   "cell_type": "code",
   "execution_count": 144,
   "metadata": {},
   "outputs": [
    {
     "name": "stdout",
     "output_type": "stream",
     "text": [
      "The observed difference of means between female and male temperatures is:  0.2892307692307696\n",
      "The p-value for the permutation statistic is:  0.0133\n",
      "Considering the level of significance to be 5%, the p-value is less than the level of significance therefore we reject the null hypothesis that the difference between female and male temperatures is significant\n"
     ]
    }
   ],
   "source": [
    "### Is the temperature different between males and females ???\n",
    "\n",
    "df_male=df[df['gender']=='M']\n",
    "df_female=df[df['gender']=='F']\n",
    "female_temp=np.array(df_female['temperature'])\n",
    "male_temp=np.array(df_male['temperature'])\n",
    "\n",
    "\n",
    "def permutation(data1,data2): \n",
    "    concat=np.concatenate((data1,data2))\n",
    "    permut=np.random.permutation(concat)\n",
    "    per_data_1=permut[:len(data1)]\n",
    "    per_data_2=permut[len(data2):]\n",
    "    return per_data_1,per_data_2 \n",
    "\n",
    "def permutation_rep(data_1,data_2,func,size=1):\n",
    "    rep=np.empty(size)\n",
    "    for i in range(size):\n",
    "        perm_1,perm_2 = permutation(data_1,data_2)\n",
    "        rep[i]= func(perm_1,perm_2)\n",
    "    return rep\n",
    "def mean_diff(data__1,data__2):\n",
    "    diff_of_means=np.mean(data__1)-np.mean(data__2)\n",
    "    return diff_of_means \n",
    "\n",
    "\n",
    "obs_diff_mean=mean_diff(female_temp,male_temp)\n",
    "diff_mean_rep=permutation_rep(female_temp,male_temp,mean_diff,10000)\n",
    "print('The observed difference of means between female and male temperatures is: ',obs_diff_mean)\n",
    "p_value=np.sum(diff_mean_rep >=obs_diff_mean)/len(diff_mean_rep)\n",
    "print(\"The p-value for the permutation statistic is: \",p_value)\n",
    "print('Considering the level of significance to be 5%, the p-value is less than the level of significance \\\n",
    "therefore we reject the null hypothesis that the difference between female and male temperatures is \\\n",
    "significant')"
   ]
  },
  {
   "cell_type": "code",
   "execution_count": 145,
   "metadata": {
    "scrolled": true
   },
   "outputs": [
    {
     "data": {
      "text/plain": [
       "Ttest_indResult(statistic=2.2854345381656103, pvalue=0.02393188312239561)"
      ]
     },
     "execution_count": 145,
     "metadata": {},
     "output_type": "execute_result"
    }
   ],
   "source": [
    "scipy.stats.ttest_ind(female_temp,male_temp)"
   ]
  },
  {
   "cell_type": "code",
   "execution_count": null,
   "metadata": {},
   "outputs": [],
   "source": [
    "# # It was hypothesized that the accepted value 96.8F for normal body temperature was the true mean for the body \n",
    "# temperature. Herein, we tested this hypothesis using a normally distributed set of data for body temperatures \n",
    "# It was concluded that the difference between the expected true mean and the approximated mean was significant at significance level \n",
    "# of 5%. Therefore we cannot say that the true mean body temperature is 96.8F.  "
   ]
  },
  {
   "cell_type": "code",
   "execution_count": null,
   "metadata": {},
   "outputs": [],
   "source": []
  }
 ],
 "metadata": {
  "kernelspec": {
   "display_name": "Python 3",
   "language": "python",
   "name": "python3"
  },
  "language_info": {
   "codemirror_mode": {
    "name": "ipython",
    "version": 3
   },
   "file_extension": ".py",
   "mimetype": "text/x-python",
   "name": "python",
   "nbconvert_exporter": "python",
   "pygments_lexer": "ipython3",
   "version": "3.6.5"
  }
 },
 "nbformat": 4,
 "nbformat_minor": 2
}
