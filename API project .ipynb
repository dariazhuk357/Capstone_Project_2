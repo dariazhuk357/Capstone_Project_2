{
 "cells": [
  {
   "cell_type": "code",
   "execution_count": 43,
   "metadata": {},
   "outputs": [],
   "source": [
    "import requests\n",
    "from collections import OrderedDict \n",
    "import numpy as np"
   ]
  },
  {
   "cell_type": "code",
   "execution_count": 3,
   "metadata": {},
   "outputs": [],
   "source": [
    "API_KEY = '2Qu5oP8rbyBvVrNEhXgU'"
   ]
  },
  {
   "cell_type": "code",
   "execution_count": 4,
   "metadata": {},
   "outputs": [],
   "source": [
    "r=requests.get('https://www.quandl.com/api/v3/datasets/FSE/AFX_X/data.json?rows=1api_key=2Qu5oP8rbyBvVrNEhXgU')"
   ]
  },
  {
   "cell_type": "code",
   "execution_count": 5,
   "metadata": {
    "scrolled": true
   },
   "outputs": [
    {
     "name": "stdout",
     "output_type": "stream",
     "text": [
      "{'dataset_data': {'limit': 1, 'transform': None, 'column_index': None, 'column_names': ['Date', 'Open', 'High', 'Low', 'Close', 'Change', 'Traded Volume', 'Turnover', 'Last Price of the Day', 'Daily Traded Units', 'Daily Turnover'], 'start_date': '2000-06-07', 'end_date': '2018-09-19', 'frequency': 'daily', 'data': [['2018-09-19', None, 76.1, 75.35, 75.65, None, 105147.0, 7961441.0, None, None, None]], 'collapse': None, 'order': None}}\n"
     ]
    }
   ],
   "source": [
    "r_json=r.json()\n",
    "print(r_json)"
   ]
  },
  {
   "cell_type": "code",
   "execution_count": 6,
   "metadata": {},
   "outputs": [],
   "source": [
    "data_list=r_json['dataset_data']['data'][0]"
   ]
  },
  {
   "cell_type": "code",
   "execution_count": 7,
   "metadata": {},
   "outputs": [
    {
     "name": "stdout",
     "output_type": "stream",
     "text": [
      "<class 'str'>\n"
     ]
    }
   ],
   "source": [
    "print(type(data_list[0][0]))"
   ]
  },
  {
   "cell_type": "code",
   "execution_count": 8,
   "metadata": {},
   "outputs": [],
   "source": [
    "r2=requests.get('https://www.quandl.com/api/v3/datasets/FSE/AFX_X/data.json?api_key=2Qu5oP8rbyBvVrNEhXgU')"
   ]
  },
  {
   "cell_type": "code",
   "execution_count": 9,
   "metadata": {},
   "outputs": [],
   "source": [
    "r2_json=r2.json()"
   ]
  },
  {
   "cell_type": "code",
   "execution_count": 10,
   "metadata": {},
   "outputs": [],
   "source": [
    "data_list_full=r2_json['dataset_data']['data']"
   ]
  },
  {
   "cell_type": "code",
   "execution_count": 11,
   "metadata": {},
   "outputs": [],
   "source": [
    "col_name_list=r2_json['dataset_data']['column_names']"
   ]
  },
  {
   "cell_type": "code",
   "execution_count": 12,
   "metadata": {},
   "outputs": [
    {
     "name": "stdout",
     "output_type": "stream",
     "text": [
      "['Date', 'Open', 'High', 'Low', 'Close', 'Change', 'Traded Volume', 'Turnover', 'Last Price of the Day', 'Daily Traded Units', 'Daily Turnover']\n"
     ]
    }
   ],
   "source": [
    "print(col_name_list)"
   ]
  },
  {
   "cell_type": "code",
   "execution_count": 50,
   "metadata": {
    "scrolled": true
   },
   "outputs": [
    {
     "name": "stdout",
     "output_type": "stream",
     "text": [
      "The highest opening price for the period:  53.54\n",
      "The lowest opening price for the period:  33.62\n",
      "The maximum difference betwen max and min in a single day:  53.54\n",
      "The highest difference between two days is:  2.559999999999995\n",
      "The average daily trading volume is:  43.61684523809524\n"
     ]
    }
   ],
   "source": [
    "highs=[]\n",
    "lows=[]\n",
    "close=[]\n",
    "open_=[]\n",
    "for list_items in data_list_full: \n",
    "        if '2017' in list_items[0]:\n",
    "            highs.append(list_items[2])\n",
    "            lows.append(list_items[3])\n",
    "            close.append(list_items[4])\n",
    "            open_.append(list_items[1])\n",
    "print('The highest opening price for the period: ', max(highs))\n",
    "print('The lowest opening price for the period: ', min(lows))\n",
    "\n",
    "diffs=list(set(highs)-set(lows))\n",
    "two_day_diffs=[]\n",
    "print('The maximum difference betwen max and min in a single day: ', max(diffs))\n",
    "for i,num in enumerate(close):\n",
    "    if (i+1)<len(close): \n",
    "        two_day_diff=close[i+1]-close[i]\n",
    "        two_day_diffs.append(two_day_diff)\n",
    "print('The highest difference between two days is: ',max(two_day_diffs))\n",
    "trade_vol=list(set(close)-set(open_))\n",
    "print('The average daily trading volume is: ',np.mean(trade_vol))"
   ]
  }
 ],
 "metadata": {
  "kernelspec": {
   "display_name": "Python 3",
   "language": "python",
   "name": "python3"
  },
  "language_info": {
   "codemirror_mode": {
    "name": "ipython",
    "version": 3
   },
   "file_extension": ".py",
   "mimetype": "text/x-python",
   "name": "python",
   "nbconvert_exporter": "python",
   "pygments_lexer": "ipython3",
   "version": "3.6.5"
  }
 },
 "nbformat": 4,
 "nbformat_minor": 2
}
